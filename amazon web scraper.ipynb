{
 "cells": [
  {
   "cell_type": "markdown",
   "metadata": {},
   "source": [
    "# Web Scraping Project"
   ]
  },
  {
   "cell_type": "code",
   "execution_count": 7,
   "metadata": {},
   "outputs": [],
   "source": [
    "# Imporrt libraries\n",
    "from bs4 import BeautifulSoup\n",
    "import requests\n",
    "\n",
    "import pandas as pd\n",
    "import datetime\n",
    "import csv\n",
    "import os\n",
    "\n",
    "import time\n",
    "\n",
    "import smtplib"
   ]
  },
  {
   "cell_type": "code",
   "execution_count": 8,
   "metadata": {},
   "outputs": [],
   "source": [
    "pwd = os.getcwd()"
   ]
  },
  {
   "cell_type": "code",
   "execution_count": null,
   "metadata": {},
   "outputs": [],
   "source": [
    "# Connect to website \n",
    "url = 'https://www.amazon.com/Dell-Ultra-Thin-Monitor-DisplayPort-Certified/dp/B08NSWXPXL/ref=sr_1_2?crid=3QF0SA0ZCEV36&keywords=Dell+P3221D&qid=1646615282&sprefix=dell+p3221d+%2Caps%2C177&sr=8-2'\n",
    "\n",
    "headers = {\"User-Agent\": \"Mozilla/5.0 (Windows NT 10.0; Win64; x64) AppleWebKit/537.36 (KHTML, like Gecko) Chrome/78.0.3904.108 Safari/537.36\", \"Accept-Encoding\":\"gzip, deflate\", \"Accept\":\"text/html,application/xhtml+xml,application/xml;q=0.9,*/*;q=0.8\", \"DNT\":\"1\",\"Connection\":\"close\", \"Upgrade-Insecure-Requests\":\"1\"}\n",
    "\n",
    "page = requests.get(url, headers=headers)\n",
    "\n",
    "# Start extracting data\n",
    "soup1 = BeautifulSoup(page.content, \"html.parser\")\n",
    "soup2 = BeautifulSoup(soup1.prettify(), \"html.parser\")\n",
    "title = soup2.find(id='productTitle').get_text()\n",
    "price = soup2.find(class_='a-offscreen').get_text()\n",
    "\n",
    "print(title)\n",
    "print(price)"
   ]
  },
  {
   "cell_type": "code",
   "execution_count": null,
   "metadata": {},
   "outputs": [],
   "source": [
    "# Clean up the data \n",
    "title = title.strip()\n",
    "price = price.strip()[1:]\n",
    "\n",
    "print(title)\n",
    "print(type(title))\n",
    "print(price)\n",
    "print(type(price))"
   ]
  },
  {
   "cell_type": "code",
   "execution_count": null,
   "metadata": {},
   "outputs": [],
   "source": [
    "# Create a timestamp, to track when data was collected\n",
    "today = datetime.date.today()\n",
    "print(today)\n",
    "print(type(today))"
   ]
  },
  {
   "cell_type": "code",
   "execution_count": 12,
   "metadata": {},
   "outputs": [],
   "source": [
    "# As we can see data types are string and this makes them not so useable\n",
    "# So we need to make a list\n",
    "title = [title]\n",
    "header = ['Price', 'Date']\n",
    "data = [price, today]"
   ]
  },
  {
   "cell_type": "code",
   "execution_count": 13,
   "metadata": {},
   "outputs": [],
   "source": [
    "# Create CSV\n",
    "with open('Amazon - Dell Monitor.csv', 'w', newline='', encoding='UTF8') as f:\n",
    "    writer = csv.writer(f)\n",
    "    writer.writerow(title) \n",
    "    writer.writerow(header)\n",
    "    writer.writerow(data)"
   ]
  },
  {
   "cell_type": "code",
   "execution_count": null,
   "metadata": {},
   "outputs": [],
   "source": [
    "df = pd.read_csv(pwd + '\\\\Amazon - Dell Monitor.csv')\n",
    "df"
   ]
  },
  {
   "cell_type": "code",
   "execution_count": 5,
   "metadata": {},
   "outputs": [],
   "source": [
    "#Combine all of the above code into one function\n",
    "def check_price():\n",
    "    url = 'https://www.amazon.com/Dell-Ultra-Thin-Monitor-DisplayPort-Certified/dp/B08NSWXPXL/ref=sr_1_2?crid=3QF0SA0ZCEV36&keywords=Dell+P3221D&qid=1646615282&sprefix=dell+p3221d+%2Caps%2C177&sr=8-2'\n",
    "    headers = {\"User-Agent\": \"Mozilla/5.0 (Windows NT 10.0; Win64; x64) AppleWebKit/537.36 (KHTML, like Gecko) Chrome/78.0.3904.108 Safari/537.36\", \"Accept-Encoding\":\"gzip, deflate\", \"Accept\":\"text/html,application/xhtml+xml,application/xml;q=0.9,*/*;q=0.8\", \"DNT\":\"1\",\"Connection\":\"close\", \"Upgrade-Insecure-Requests\":\"1\"}\n",
    "\n",
    "    page = requests.get(url, headers=headers)\n",
    "\n",
    "    soup1 = BeautifulSoup(page.content, \"html.parser\")\n",
    "    soup2 = BeautifulSoup(soup1.prettify(), \"html.parser\")\n",
    "\n",
    "    price = soup2.find(class_='a-offscreen').get_text()\n",
    "\n",
    "    price = price.strip()[1:]\n",
    "    today = datetime.date.today()\n",
    "\n",
    "    data = [price, today]\n",
    "    \n",
    "    #Append data to the csv\n",
    "    with open('Amazon - Dell Monitor.csv', 'a+', newline='', encoding='UTF8') as f:\n",
    "        writer = csv.writer(f)\n",
    "        writer.writerow(data)\n",
    "    \n",
    "    # Send yourself an email, when a price hits below a certain level  \n",
    "    if (price < 430):\n",
    "        send_mail()\n",
    " "
   ]
  },
  {
   "cell_type": "code",
   "execution_count": null,
   "metadata": {},
   "outputs": [],
   "source": [
    "# Runs check_price after a set time and inputs data into your CSV\n",
    "while(1):\n",
    "    check_price()\n",
    "    time.sleep(86400)"
   ]
  },
  {
   "cell_type": "code",
   "execution_count": null,
   "metadata": {},
   "outputs": [],
   "source": [
    "df = pd.read_csv(pwd + '\\\\Amazon - Dell Monitor.csv')\n",
    "df"
   ]
  },
  {
   "cell_type": "code",
   "execution_count": null,
   "metadata": {},
   "outputs": [],
   "source": [
    "# Send yourself an email, when a price hits below a certain level\n",
    "def send_mail():\n",
    "    server = smtplib.SMTP_SSL('smtp.gmail.com',465)\n",
    "    server.ehlo()\n",
    "    #server.starttls()\n",
    "    server.ehlo()\n",
    "    server.login('mipapadi94@gmail.com','*****************')\n",
    "    \n",
    "    subject = \"The monitor you want, is below $430! Now is your chance!\"\n",
    "    body = \"Hey Mike, this is the moment you have been waiting for. Now is your chance to pick up the monitor of your dreams. Harry up! Link here: https://www.amazon.com/Dell-Ultra-Thin-Monitor-DisplayPort-Certified/dp/B08NSWXPXL/ref=sr_1_2?crid=3QF0SA0ZCEV36&keywords=Dell+P3221D&qid=1646615282&sprefix=dell+p3221d+%2Caps%2C177&sr=8-2\"\n",
    "   \n",
    "    msg = f\"Subject: {subject}\\n\\n{body}\"\n",
    "    \n",
    "    server.sendmail(\n",
    "        'mipapadi94@gmail.com',\n",
    "        msg\n",
    "    )"
   ]
  }
 ],
 "metadata": {
  "interpreter": {
   "hash": "dc5ff31af0cf5e6a8c622a3c43d12676fbeb569d61dd49525af6e4757f9b82e7"
  },
  "kernelspec": {
   "display_name": "Python 3.10.2 64-bit",
   "language": "python",
   "name": "python3"
  },
  "language_info": {
   "codemirror_mode": {
    "name": "ipython",
    "version": 3
   },
   "file_extension": ".py",
   "mimetype": "text/x-python",
   "name": "python",
   "nbconvert_exporter": "python",
   "pygments_lexer": "ipython3",
   "version": "3.10.2"
  },
  "orig_nbformat": 4
 },
 "nbformat": 4,
 "nbformat_minor": 2
}
